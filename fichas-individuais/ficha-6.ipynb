{
 "cells": [
  {
   "cell_type": "markdown",
   "metadata": {},
   "source": [
    "# Ficha 6\n",
    "\n",
    "Na Figura 1 é apresentado o esquema lógico, nomeadamente modelo relacional, da base de dados de uma\n",
    "determinada clínica.\n",
    "A base de dados que o esquema representa está integrada no sistema operacional principal da clínica e su-\n",
    "porta todos os processos relacionados com o registo e a faturação das consultas realizadas. É de referir que o\n",
    "valor pago pelo paciente em cada consulta pode ser superior ao valor de referência para a especialialidade do\n",
    "médico (preço), uma vez que podem ser pagos procedimentos efetuados durante a realização da consulta.\n",
    "Na folha de exercícios anterior utilizou o MySQL Workbench com o ficheiro “Ficha5_ModeloLogico.mwb”,\n",
    "disponibilizado juntamente com a 5.a ficha prática laboratorial, de modo a gerar o respetivo esquema físico para\n",
    "a base de dados em questão.\n",
    "Com base no esquema físico gerado, pretende-se que:\n",
    "1. Povoe a base de dados criada, utilizando o ficheiro “Ficha6_PovoarTabelas.sql” disponibilizado juntamente\n",
    "com esta ficha prática laboratorial. O ficheiro disponibiliza igualmente a função “idade” que será muito\n",
    "útil para responder a alguns dos pontos da questão 2.\n",
    "\n",
    "![done](tabelas-povoadas.png)\n",
    "\n",
    "2. Utilizando SQL, desenvolva os comandos necessários para responder às seguintes questões:\n",
    "\n",
    "Foi criada uma função `anservico` para facilitar o cálculo dos anos de serviço.\n",
    "\n",
    "``` sql\n",
    "\n",
    "CREATE DEFINER=`root`@`localhost` FUNCTION `anservico`(dta date) RETURNS int(3)\n",
    "BEGIN\n",
    "RETURN TIMESTAMPDIFF(YEAR, dta, CURDATE());\n",
    "END\n",
    "\n",
    "```\n",
    "\n",
    "* a) Qual é o nome dos médicos com mais de 10 anos de serviço?\n",
    "\n",
    "``` sql\n",
    "SELECT * FROM medico WHERE anservico(data_inicio_servico) > 10\n",
    "```\n",
    "|Resultado|\n",
    "|-|\n",
    "|123456\tJose Maria\tRua de Cima n.º 223, 5.º DTO\t4700-001\t1970-01-23\t1\t1990-02-23|\n",
    "|223456\tAntonio Pinto\tRua de Baixo n.º 125, 2.º ESQ\t4700-003\t1991-11-21\t2\t1990-01-23|\n",
    "|323456\tManuel Maria Neves\tRua de Sul n.º 789, 9.º DTO\t4700-002\t1964-03-24\t2\t1979-07-23|\n",
    "|423456\tPedro Pinto Silva\tRua de Este n.º 456, 1.º DTO\t4750-002\t1978-02-13\t3\t1980-01-23|\n",
    "|523456\tMarta Catarina\tRua de Cima n.º 120, 3.º ESQ\t4700-001\t1960-09-11\t1\t1971-05-23|\n",
    "\n"
   ]
  },
  {
   "cell_type": "markdown",
   "metadata": {},
   "source": [
    "* b) Qual é o nome de todos os médicos e a respetiva especialidade que cada um exerce?\n",
    "\n",
    "``` sql\n",
    "SELECT medico.nome, especialidade.designacao \n",
    "FROM medico\n",
    "JOIN especialidade ON medico.especialidade = especialidade.id_especialidade\n",
    "```\n",
    "\n",
    "|Resultado|\n",
    "|-|\n",
    "|Jose Maria\tOftalmologia|\n",
    "|Antonio Pinto\tClinica Geral|\n",
    "|Manuel Maria Neves\tClinica Geral|\n",
    "|Pedro Pinto Silva\tCardiologia|\n",
    "|Marta Catarina\tOftalmologia|"
   ]
  },
  {
   "cell_type": "markdown",
   "metadata": {},
   "source": [
    "* c) Qual é o nome e a morada dos pacientes residentes na localidade de Braga?\n",
    "\n",
    "``` sql\n",
    "SELECT nome, morada\n",
    "FROM paciente\n",
    "JOIN codigo_postal ON paciente.codigo_postal = codigo_postal.codigo_postal\n",
    "WHERE codigo_postal.localidade = 'Braga'\n",
    "```\n",
    "|Resultado|\n",
    "|-|"
   ]
  },
  {
   "cell_type": "markdown",
   "metadata": {},
   "source": [
    "\n",
    "* d) Qual é o nome dos médicos da especialidade de Oftalmologia?\n",
    "\n",
    "``` sql\n",
    "SELECT medico.nome, especialidade.designacao \n",
    "FROM medico\n",
    "JOIN especialidade ON medico.especialidade = especialidade.id_especialidade\n",
    "WHERE especialidade.designacao = 'Oftalmologia'\n",
    "```\n",
    "|Resultado|\n",
    "|-|\n",
    "|Jose Maria\tOftalmologia|\n",
    "|Marta Catarina\tOftalmologia|\n"
   ]
  },
  {
   "cell_type": "markdown",
   "metadata": {},
   "source": [
    "* e) Qual é o nome e a idade dos médicos com mais de 40 anos de idade da especialidade de Clínica Geral?\n",
    "\n",
    "``` sql\n",
    "SELECT nome, idade(data_nascimento) \n",
    "FROM medico\n",
    "JOIN especialidade ON medico.especialidade = especialidade.id_especialidade\n",
    "WHERE especialidade.designacao = 'Clínica Geral'\n",
    "\n",
    "```\n",
    "|Resultado|\n",
    "|-|\n",
    "Antonio Pinto\t32\n",
    "Manuel Maria Neves\t59"
   ]
  },
  {
   "cell_type": "markdown",
   "metadata": {},
   "source": [
    "* f) Qual é o nome dos médicos da especialidade de Oftalmologia que consultaram pacientes da localidade de Braga?\n",
    "\n",
    "``` sql\n",
    "SELECT DISTINCT medico.nome AS nome_medico, paciente.nome AS nome_paciente, especialidade.designacao as especialidade\n",
    "FROM medico\n",
    "JOIN especialidade ON medico.especialidade = especialidade.id_especialidade\n",
    "JOIN consulta ON medico.id_medico = consulta.id_medico\n",
    "JOIN paciente ON consulta.id_paciente = paciente.id_paciente\n",
    "JOIN codigo_postal ON paciente.codigo_postal = codigo_postal.codigo_postal\n",
    "WHERE especialidade.designacao = 'Oftalmologia' AND codigo_postal.localidade = 'Braga';\n",
    "\n",
    "```\n",
    "\n",
    "|Resultado|\n",
    "|-|\n",
    "|Jose Maria\tManuel Marques\tOftalmologia\n",
    "Jose Maria\tManuel Marques\tOftalmologia\n",
    "Jose Maria\tJose Manuel Marques\tOftalmologia"
   ]
  },
  {
   "cell_type": "markdown",
   "metadata": {},
   "source": [
    "* g) Qual é o nome e os anos de serviço dos médicos com mais de 50 anos de idade que deram consultas a partir das 12h a pacientes com menos de 20 anos de idade?\n",
    "\n",
    "``` sql\n",
    "SELECT medico.nome AS nome_medico, anservico(medico.data_inicio_servico) AS anos_servico, idade(medico.data_nascimento) AS idade_medico, paciente.nome AS nome_paciente, idade(paciente.data_nascimento) AS idade_paciente\n",
    "FROM medico\n",
    "JOIN consulta ON consulta.id_medico = medico.id_medico\n",
    "JOIN paciente ON consulta.id_paciente = paciente.id_paciente\n",
    "WHERE idade(medico.data_nascimento) > 50 AND idade(paciente.data_nascimento) < 20\n",
    "\n",
    "```\n",
    "|Resultado|\n",
    "|-|\n",
    "|Manuel Maria Neves\t44\t59\tMaria Jose Silva\t11|"
   ]
  },
  {
   "cell_type": "markdown",
   "metadata": {},
   "source": [
    "* h) Qual é o nome e a idade dos pacientes com mais de 10 anos de idade que nunca foram consultados na especialidade de Oftalmologia?\n",
    "\n",
    "``` sql\n",
    "SELECT paciente.nome AS paciente, idade(paciente.data_nascimento) AS idade, especialidade.designacao AS especialidade_consultada\n",
    "FROM medico\n",
    "JOIN consulta ON consulta.id_medico = medico.id_medico\n",
    "JOIN paciente ON consulta.id_paciente = paciente.id_paciente\n",
    "JOIN especialidade ON especialidade.id_especialidade = medico.especialidade\n",
    "WHERE especialidade.designacao != 'Oftalmologia' AND idade(paciente.data_nascimento) > 10\n",
    "```\n",
    "Manuel Marques\t53\tClinica Geral\n",
    "Pedro Paulo\t32\tClinica Geral\n",
    "Pedro Paulo\t32\tClinica Geral\n",
    "Pedro Paulo\t32\tClinica Geral\n",
    "Pedro Paulo\t32\tClinica Geral\n",
    "Jacinto Homem\t41\tClinica Geral\n",
    "Sara Catarina Costa\t37\tClinica Geral\n",
    "Jose Carlos Moreira\t53\tClinica Geral\n",
    "Joana Silva\t13\tClinica Geral\n",
    "Maria Jose Silva\t11\tClinica Geral\n",
    "Sara Catarina Costa\t37\tClinica Geral\n",
    "Rosa Maria Carvalho\t22\tClinica Geral\n",
    "Manuel Marques\t53\tCardiologia\n",
    "Maria Jose Silva\t11\tCardiologia\n",
    "Sara Catarina Costa\t37\tCardiologia\n",
    "Rosa Maria Carvalho\t22\tCardiologia"
   ]
  },
  {
   "cell_type": "markdown",
   "metadata": {},
   "source": [
    "* i) Qual é o nome das especialidades que tiveram consultas no mês de janeiro de 2016?\n",
    "\n",
    "``` sql\n",
    "SELECT DISTINCT especialidade.designacao as especialidade_jan_16\n",
    "FROM especialidade\n",
    "JOIN medico ON especialidade.id_especialidade = medico.especialidade\n",
    "JOIN consulta ON consulta.id_medico = medico.id_medico\n",
    "WHERE year(consulta.data_hora) = 2016 AND month(consulta.data_hora) = 1\n",
    "```\n",
    "|Resultado|\n",
    "|-|\n",
    "|Oftalmologia|\n",
    "|Clinica Geral|"
   ]
  },
  {
   "cell_type": "markdown",
   "metadata": {},
   "source": [
    "* j) Qual é o nome dos médicos com mais de 30 anos de idade ou menos de 5 anos de serviço?\n",
    "\n",
    "``` sql\n",
    "SELECT nome FROM medico\n",
    "WHERE idade(data_nascimento) > 30 AND anservico(data_inicio_servico) >5\n",
    "```\n",
    "\n",
    "Jose Maria\n",
    "Antonio Pinto\n",
    "Manuel Maria Neves\n",
    "Pedro Pinto Silva\n",
    "Marta Catarina\n"
   ]
  },
  {
   "cell_type": "markdown",
   "metadata": {},
   "source": [
    "* k) Qual é o nome e a idade dos médicos de Clínica Geral que não consultaram em janeiro de 2016?\n",
    "\n",
    "``` sql\n",
    "SELECT DISTINCT nome, idade(data_nascimento) AS idade FROM medico\n",
    "JOIN especialidade ON especialidade.id_especialidade = medico.especialidade\n",
    "JOIN consulta ON consulta.id_medico = medico.id_medico\n",
    "WHERE especialidade.designacao = 'Clínica Geral' AND (month(consulta.data_hora) IS NULL OR (month(consulta.data_hora) != 1 AND year(consulta.data_hora) != 2016))\n",
    "\n",
    "```"
   ]
  },
  {
   "cell_type": "markdown",
   "metadata": {},
   "source": [
    "* l) Qual é o nome e a idade dos pacientes que já foram consultados por todos os médicos?\n",
    "\n",
    "``` sql\n",
    "SELECT paciente.nome, idade(paciente.data_nascimento) AS idade FROM paciente\n",
    "JOIN consulta ON consulta.id_paciente = paciente.id_paciente\n",
    "JOIN medico ON consulta.id_medico = medico.id_medico\n",
    "GROUP BY paciente.nome, idade\n",
    "HAVING count(*) = (SELECT COUNT(*) FROM medico)\n",
    "```\n",
    "Sara Catarina Costa\t37"
   ]
  },
  {
   "cell_type": "markdown",
   "metadata": {},
   "source": [
    "* m) Qual é o nome das especialidades que tiveram consultas no mês de janeiro e março de 2016?\n",
    "\n",
    "``` sql\n",
    "SELECT DISTINCT especialidade.designacao as especialidade_jan_e_mar_16\n",
    "FROM especialidade\n",
    "JOIN medico ON especialidade.id_especialidade = medico.especialidade\n",
    "JOIN consulta ON consulta.id_medico = medico.id_medico\n",
    "WHERE year(consulta.data_hora) = 2016 AND (month(consulta.data_hora) = 1 OR month(consulta.data_hora) = 3)\n",
    "\n",
    "```\n",
    "|Resultado|\n",
    "|-|\n",
    "|Oftalmologia|\n",
    "|Clinica Geral|"
   ]
  },
  {
   "cell_type": "markdown",
   "metadata": {},
   "source": [
    "* n) Qual é o nome dos médicos que nunca consultaram pacientes residentes em Braga?\n",
    "\n",
    "``` sql\n",
    "SELECT DISTINCT medico.nome FROM medico\n",
    "JOIN consulta ON consulta.id_medico = medico.id_medico\n",
    "JOIN paciente ON consulta.id_paciente = paciente.id_paciente\n",
    "JOIN codigo_postal ON codigo_postal.codigo_postal = paciente.codigo_postal\n",
    "WHERE codigo_postal.localidade != 'Braga'\n",
    "```"
   ]
  },
  {
   "cell_type": "markdown",
   "metadata": {},
   "source": [
    "* o) Qual é o nome e a idade dos pacientes que só foram consultados a Clínica Geral?\n",
    "\n",
    "``` sql\n",
    "SELECT DISTINCT paciente.nome, idade(paciente.data_nascimento) AS idade FROM paciente\n",
    "JOIN consulta ON consulta.id_paciente = paciente.id_paciente\n",
    "JOIN medico ON consulta.id_medico = medico.id_medico\n",
    "JOIN especialidade ON especialidade.id_especialidade = medico.especialidade\n",
    "WHERE especialidade.designacao = 'Clínica Geral'\n",
    "\n",
    "```\n",
    "\n"
   ]
  }
 ],
 "metadata": {
  "language_info": {
   "name": "python"
  }
 },
 "nbformat": 4,
 "nbformat_minor": 2
}
