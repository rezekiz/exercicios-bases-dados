{
 "cells": [
  {
   "cell_type": "markdown",
   "metadata": {},
   "source": [
    "# Ficha 1\n",
    "\n",
    "### Enunciado\n",
    "\n",
    "Todas as empresas da área da saúde, de uma maneira ou de outra, têm de guardar a informação relativa aos\n",
    "contactos pessoais dos profissionais que nela trabalham, **incluindo morada, telefone, telemóvel e e-mail, entre\n",
    "outros**. \n",
    "\n",
    "A forma como é mantida essa informação depende muito das nossas pretensões de utilização ou das necessidades associadas.\n",
    "\n",
    "Os “livros” de contactos podem apresentar estruturas e formatos muito diversos. Os seus utilizadores costumam personalizá-los frequentemente e neles guardam informação muito díspar e variada. \n",
    "\n",
    "Veja-se, a título de\n",
    "exemplo, a Figura 1.\n",
    "\n",
    "Figura 1: Exemplo de um livro de contactos.\n",
    "\n",
    "Com base no caso apresentado, pretende-se que:\n",
    "\n",
    "##Questões\n",
    "\n",
    "1. Identifique e caracterize potenciais entidades envolvidas num livro de contactos idealizado por si, bem\n",
    "como os vários atributos que as constituem.\n",
    "\n",
    "\n",
    "**Resposta:**\n",
    "|entidade|atributos|\n",
    "|-|-|\n",
    "|profissional|id, nome , telefone , email , morada , especialidade, cargo|\n",
    "|telefones|id, numero|\n",
    "|morada|id, rua , localidade , codigo postal|\n",
    "|especialidade|id, nome (e.g. pneumologia)|\n",
    "|cargo|id, nome (e.g. gestor)|\n",
    "\n"
   ]
  },
  {
   "cell_type": "markdown",
   "metadata": {},
   "source": [
    "2. Identifique e caracterize os diversos relacionamentos que possam existir entre as entidades estabelecidas\n",
    "na alínea anterior.\n",
    "\n",
    "**Resposta:**\n",
    "|entidade|relacionamento|\n",
    "|-|-|\n",
    "|profissional| id_telefone(s) (1:n), id_morada (1:1), id_especialidade(s) (1:n), id_cargo(s) (1:1)|\n",
    "|telefones|id_profissional (n:1)|\n",
    "|morada|id_profissional (1:1)|\n",
    "|especialidade|id, nome (e.g. pneumologia) (n:1)|\n",
    "|cargo|id, nome (e.g. gestor) (1:1)|\n"
   ]
  }
 ],
 "metadata": {
  "language_info": {
   "name": "python"
  }
 },
 "nbformat": 4,
 "nbformat_minor": 2
}
