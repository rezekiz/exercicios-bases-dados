{
 "cells": [
  {
   "cell_type": "markdown",
   "metadata": {},
   "source": [
    "# Ficha 4\n",
    "\n",
    "### Questões\n",
    "\n",
    "Assim, com base na resolução da Ficha PL03, pretende-se que:\n",
    "\n",
    "1. Utilizando o MySQL Workbench, faça a geração do respetivo esquema físico para a base de dados em questão.\n",
    "\n",
    "![Diagrama ER](misc/ficha4_eer_diag.png)\n",
    "\n",
    "2. Desenvolva as operações necessárias para fazer o povoamento das tabelas da base de dados\n",
    "\n",
    "Em primeiro lugar é necessário criar a tabela partindo do esquema lógico. No MySQL Workbench podemos recorrer à função \"Forward Engineer\". Anexo abaixo o script .sql utilizado, gerado automaticamente pela funcionalidade acima mencionada.\n",
    "\n",
    "Posteriormente podemos inserir os dados usando o comando `INSERT`. Um exemplo abaixo de criação de algumas entradas:\n",
    "\n",
    "\n",
    "```SQL\n",
    "\n",
    "INSERT INTO aluno (nome, nif, nomc_enc_edu, nome_pai)\n",
    "VALUES (\n",
    "    'João Silva',\n",
    "    '999999999',\n",
    "    'Miguel Silva',\n",
    "    'Miguel Silva',\n",
    ")\n",
    "\n",
    "INSERT INTO UC (designacao, ECTs)\n",
    "VALUES (\n",
    "    'Introdução a Bases de Dados',\n",
    "    30\n",
    ")\n",
    "\n",
    "INSERT INTO curso (designacao, ano_letivo)\n",
    "VALUES (\n",
    "    'Mestrado em Bioinformática',\n",
    "    1\n",
    ")\n",
    "```\n",
    "\n"
   ]
  }
 ],
 "metadata": {
  "language_info": {
   "name": "python"
  }
 },
 "nbformat": 4,
 "nbformat_minor": 2
}
