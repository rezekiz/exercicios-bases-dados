{
 "cells": [
  {
   "cell_type": "markdown",
   "metadata": {},
   "source": [
    "# Ficha 7\n",
    "\n",
    "Na Figura 1 é apresentado o esquema lógico, nomeadamente modelo relacional, da base de dados de uma\n",
    "determinada clínica.\n",
    "A base de dados que o esquema representa está integrada no sistema operacional principal da clínica e su-\n",
    "porta todos os processos relacionados com o registo e a faturação das consultas realizadas. É de referir que o\n",
    "valor pago pelo paciente em cada consulta pode ser superior ao valor de referência para a especialialidade do\n",
    "médico (preço), uma vez que podem ser pagos procedimentos efetuados durante a realização da consulta.\n",
    "Utilizando a base de dados povoada com o ficheiro “Ficha6_PovoarTabelas.sql”, disponibilizado juntamente\n",
    "com a 6.a ficha prática laboratorial, pretende-se que:\n",
    "\n",
    "1. Resolva utilizando funções de agregação as alíneas k, l, n e o da questão 2 da 6 ficha prática laboratorial.\n",
    "\n",
    "* Alinea K\n",
    "\n",
    "``` sql\n",
    "SELECT nome, idade(data_nascimento) AS idade FROM medico\n",
    "JOIN especialidade ON especialidade.id_especialidade = medico.especialidade\n",
    "JOIN consulta ON consulta.id_medico = medico.id_medico\n",
    "WHERE especialidade.designacao = 'Clínica Geral' AND (month(consulta.data_hora) IS NULL OR (month(consulta.data_hora) != 1 AND year(consulta.data_hora) != 2016))\n",
    "GROUP BY medico.nome, idade\n",
    "```"
   ]
  },
  {
   "cell_type": "markdown",
   "metadata": {},
   "source": [
    "* Alinea L\n",
    "\n",
    "``` sql\n",
    "SELECT paciente.nome, idade(paciente.data_nascimento) AS idade FROM paciente\n",
    "JOIN consulta ON consulta.id_paciente = paciente.id_paciente\n",
    "JOIN medico ON consulta.id_medico = medico.id_medico\n",
    "GROUP BY paciente.nome, idade\n",
    "HAVING count(*) = (SELECT COUNT(*) FROM medico)\n",
    "```"
   ]
  },
  {
   "cell_type": "markdown",
   "metadata": {},
   "source": [
    "* Alinea N\n",
    "\n",
    "``` sql\n",
    "SELECT medico.nome FROM medico\n",
    "JOIN consulta ON consulta.id_medico = medico.id_medico\n",
    "JOIN paciente ON consulta.id_paciente = paciente.id_paciente\n",
    "JOIN codigo_postal ON codigo_postal.codigo_postal = paciente.codigo_postal\n",
    "WHERE codigo_postal.localidade != 'Braga'\n",
    "GROUP BY medico.nome\n",
    "```"
   ]
  },
  {
   "cell_type": "markdown",
   "metadata": {},
   "source": [
    "* Alinea O\n",
    "\n",
    "``` sql\n",
    "SELECT paciente.nome, idade(paciente.data_nascimento) AS idade FROM paciente\n",
    "JOIN consulta ON consulta.id_paciente = paciente.id_paciente\n",
    "JOIN medico ON consulta.id_medico = medico.id_medico\n",
    "JOIN especialidade ON especialidade.id_especialidade = medico.especialidade\n",
    "WHERE especialidade.designacao = 'Clínica Geral'\n",
    "GROUP BY paciente.nome, idade\n",
    "```"
   ]
  },
  {
   "cell_type": "markdown",
   "metadata": {},
   "source": [
    "2. Utilizando SQL, desenvolva os comandos necessários para responder às seguintes questões:\n",
    "(a) Apresente a média das idades dos médicos com mais de 15 anos de serviço.\n",
    "\n",
    "``` sql\n",
    "SELECT AVG(idade(data_nascimento)) FROM medico\n",
    "WHERE anservico(data_inicio_servico) > 15;\n",
    "```\n",
    "\n"
   ]
  },
  {
   "cell_type": "markdown",
   "metadata": {},
   "source": [
    "(b) Apresente a média dos anos de serviço dos médicos para cada uma das especialidades. Devem ser\n",
    "apresentadas todas as especialidades, incluindo as que não tenham médicos associados.\n",
    "\n",
    "``` sql\n",
    "SELECT especialidade.designacao AS especialidade, avg(anservico(data_inicio_servico)) AS media_anos_servico FROM medico\n",
    "JOIN especialidade ON especialidade.id_especialidade = medico.especialidade\n",
    "GROUP BY especialidade.designacao\n",
    "```\n",
    "\n",
    "\n",
    "\n"
   ]
  },
  {
   "cell_type": "markdown",
   "metadata": {},
   "source": [
    "(c) Apresente o número de consultas que estão registadas por cada um dos médicos. Devem ser apresen-\n",
    "tados todos os médicos, incluindo os que nunca tenham dado consultas.\n",
    "\n",
    "``` sql\n",
    "SELECT medico.nome, COUNT(*) AS numero_consultas\n",
    "FROM consulta\n",
    "JOIN medico ON consulta.id_medico = medico.id_medico\n",
    "GROUP BY medico.nome\n",
    "```"
   ]
  },
  {
   "cell_type": "markdown",
   "metadata": {},
   "source": [
    "(d) Apresente a média das idades dos pacientes por cada uma das localidades. Devem ser apresentadas\n",
    "todas as localidades, incluindo as que não tenham pacientes associados.\n",
    "\n",
    "``` sql\n",
    "SELECT codigo_postal.localidade, avg(idade(paciente.data_nascimento)) AS med_idade \n",
    "FROM codigo_postal\n",
    "JOIN paciente ON codigo_postal.codigo_postal = paciente.codigo_postal\n",
    "GROUP BY codigo_postal.localidade\n",
    "```"
   ]
  },
  {
   "cell_type": "markdown",
   "metadata": {},
   "source": [
    "(e) Apresente para cada médico o valor total faturado em 2016. Devem ser apresentados todos os\n",
    "médicos, incluindo os que nunca tenham dado consultas.\n",
    "\n",
    "``` sql\n",
    "SELECT medico.nome AS medico, sum(consulta.preco) AS faturado FROM medico\n",
    "JOIN consulta ON consulta.id_medico = medico.id_medico\n",
    "GROUP BY medico\n",
    "```"
   ]
  },
  {
   "cell_type": "markdown",
   "metadata": {},
   "source": [
    "(f) Apresente o número de médicos para cada uma das especialidades. Devem ser apresentadas todas as\n",
    "especialidades, incluindo as que não tenham médicos associados.\n",
    "\n",
    "``` sql\n",
    "SELECT especialidade.designacao AS especialidade, count(*) AS num_medicos FROM especialidade\n",
    "JOIN medico ON especialidade.id_especialidade = medico.especialidade\n",
    "GROUP BY especialidade\n",
    "```"
   ]
  },
  {
   "cell_type": "markdown",
   "metadata": {},
   "source": [
    "(g) Para cada uma das especialidades com menos de dois médicos, apresente o valor máximo e o valor\n",
    "mínimo faturado para o conjunto das consultas, bem como o seu valor médio.\n",
    "\n",
    "``` sql\n",
    "SELECT \n",
    "especialidade.designacao AS especialidade,\n",
    "max(consulta.preco) AS max_faturado,\n",
    "min(consulta.preco) AS min_faturado,\n",
    "avg(consulta.preco) AS fat_media\n",
    "FROM consulta\n",
    "JOIN medico ON consulta.id_medico = medico.id_medico\n",
    "JOIN especialidade  ON especialidade.id_especialidade = medico.especialidade\n",
    "GROUP BY especialidade HAVING count(DISTINCT medico.id_medico) < 2\n",
    "```"
   ]
  },
  {
   "cell_type": "markdown",
   "metadata": {},
   "source": [
    "(h) Apresente o nome do(s) médico(s) cujo valor médio faturado em 2016 por consulta seja superior\n",
    "à média por consulta desse mesmo ano, bem como o valor médio associado a cada um desses(s)\n",
    "médico(s).\n",
    "\n",
    "``` sql\n",
    "SELECT medico.nome AS medico, avg(consulta.preco) AS fat_media\n",
    "FROM consulta\n",
    "JOIN medico ON consulta.id_medico = medico.id_medico\n",
    "WHERE year(consulta.data_hora) = 2016 \n",
    "GROUP BY medico.nome\n",
    "HAVING fat_media > (SELECT avg(consulta.preco) FROM consulta WHERE year(consulta.data_hora) = 2016)\n",
    "```"
   ]
  },
  {
   "cell_type": "markdown",
   "metadata": {},
   "source": [
    "(i) Apresente o nome da(s) especialidade(s) que mais faturou (faturaram) em 2016, bem como o valor\n",
    "total associado a cada uma dessa(s) especialidade(s).\n",
    "\n",
    "``` sql\n",
    "SELECT especialidade.designacao AS especialidade, sum(consulta.preco) AS faturado\n",
    "FROM consulta\n",
    "JOIN medico ON consulta.id_medico = medico.id_medico\n",
    "JOIN especialidade  ON especialidade.id_especialidade = medico.especialidade\n",
    "WHERE year(consulta.data_hora) = 2016\n",
    "GROUP BY especialidade \n",
    "ORDER BY faturado DESC\n",
    "LIMIT 1;\n",
    "```\n"
   ]
  },
  {
   "cell_type": "markdown",
   "metadata": {},
   "source": [
    "(j) Apresente o nome dos três médicos que mais deram consultas em 2016, bem como o número de\n",
    "consultas associado a cada um desses médicos.\n",
    "\n",
    "``` sql\n",
    "SELECT medico.nome AS medico, count(*) AS num_consultas\n",
    "FROM consulta\n",
    "JOIN medico ON consulta.id_medico = medico.id_medico\n",
    "WHERE year(consulta.data_hora) = 2016\n",
    "GROUP BY medico\n",
    "ORDER BY num_consultas DESC\n",
    "LIMIT 3;\n",
    "```\n"
   ]
  }
 ],
 "metadata": {
  "language_info": {
   "name": "python"
  }
 },
 "nbformat": 4,
 "nbformat_minor": 2
}
